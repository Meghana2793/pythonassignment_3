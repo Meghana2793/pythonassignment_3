{
 "cells": [
  {
   "cell_type": "code",
   "execution_count": 2,
   "id": "742e52a9-22b5-4cd6-9764-5b04bd0e60ca",
   "metadata": {},
   "outputs": [
    {
     "name": "stdout",
     "output_type": "stream",
     "text": [
      "1 2 3 4 5 6 7 8 9 10 "
     ]
    }
   ],
   "source": [
    "#1. Write a Python program to print the numbers from 1 to 10 using a `for` loop.\n",
    "for i in range(1,11):\n",
    "    print(i,end=' ')"
   ]
  },
  {
   "cell_type": "code",
   "execution_count": 6,
   "id": "b9b6b6d8-02f7-4aff-9707-663a34ea91ac",
   "metadata": {},
   "outputs": [
    {
     "name": "stdout",
     "output_type": "stream",
     "text": [
      "24\n"
     ]
    }
   ],
   "source": [
    "#2. Create a program that calculates the sum of all numbers in a list using a `for` loop.\n",
    "lst=[1,2,3,4,5,9]\n",
    "count=0\n",
    "for i in lst:\n",
    "    count+=i\n",
    "print(count)"
   ]
  },
  {
   "cell_type": "code",
   "execution_count": 10,
   "id": "882b4541-cefa-4ab0-a9d5-4e0b055719d6",
   "metadata": {},
   "outputs": [
    {
     "name": "stdout",
     "output_type": "stream",
     "text": [
      "!dlroW ,olleH"
     ]
    }
   ],
   "source": [
    "#3. Write a program to print the characters of a string in reverse order using a `for` loop\n",
    "def print_string_in_reverse(s):\n",
    "    for i in range(len(s)-1, -1, -1):\n",
    "        print(s[i],end='')\n",
    "print_string_in_reverse(\"Hello, World!\")"
   ]
  },
  {
   "cell_type": "code",
   "execution_count": 12,
   "id": "b611c90e-328d-49d8-8c23-071eedb29319",
   "metadata": {},
   "outputs": [
    {
     "name": "stdin",
     "output_type": "stream",
     "text": [
      "enter a number: 6\n"
     ]
    },
    {
     "name": "stdout",
     "output_type": "stream",
     "text": [
      "120\n"
     ]
    }
   ],
   "source": [
    "#4. Develop a program that finds the factorial of a given number using a `for` loop.\n",
    "n=int(input(\"enter a number:\"))\n",
    "fact=1\n",
    "for i in range(1,n):\n",
    "    fact*=i\n",
    "print(fact)"
   ]
  },
  {
   "cell_type": "code",
   "execution_count": 20,
   "id": "81e41f7e-f347-4a5e-8d37-593a25b813a5",
   "metadata": {},
   "outputs": [
    {
     "name": "stdin",
     "output_type": "stream",
     "text": [
      "enter a number 8\n"
     ]
    },
    {
     "name": "stdout",
     "output_type": "stream",
     "text": [
      "8 * 1 = 8\n",
      "8 * 2 = 16\n",
      "8 * 3 = 24\n",
      "8 * 4 = 32\n",
      "8 * 5 = 40\n",
      "8 * 6 = 48\n",
      "8 * 7 = 56\n",
      "8 * 8 = 64\n",
      "8 * 9 = 72\n",
      "8 * 10 = 80\n"
     ]
    }
   ],
   "source": [
    "#5. Create a program to print the multiplication table of a given number using a `for` loop.\n",
    "n=int(input(\"enter a number\"))\n",
    "for i in range(1,11):\n",
    "    print(n,'*' ,i,'=', n*i)"
   ]
  },
  {
   "cell_type": "code",
   "execution_count": 24,
   "id": "4b0853f4-3281-46b0-836d-f20092d541df",
   "metadata": {},
   "outputs": [
    {
     "name": "stdout",
     "output_type": "stream",
     "text": [
      "even numbers: 3\n",
      "odd numbers: 3\n"
     ]
    }
   ],
   "source": [
    "#6. Write a program that counts the number of even and odd numbers in a list using a `for` loop.\n",
    "lst=[1,2,3,4,5,6]\n",
    "count1=0\n",
    "count2=0\n",
    "for i in lst:\n",
    "    if i%2==0:\n",
    "        count1+=1\n",
    "    else:\n",
    "        count2+=1\n",
    "print(\"even numbers:\",count1)\n",
    "print(\"odd numbers:\",count2)"
   ]
  },
  {
   "cell_type": "code",
   "execution_count": 26,
   "id": "dec0067a-3631-4996-9983-0d5afc8a41db",
   "metadata": {},
   "outputs": [
    {
     "name": "stdout",
     "output_type": "stream",
     "text": [
      "1 4 9 16 25 "
     ]
    }
   ],
   "source": [
    "#7. Develop a program that prints the squares of numbers from 1 to 5 using a `for` loop.\n",
    "for i in range(1,6):\n",
    "    print(i*i,end=' ')"
   ]
  },
  {
   "cell_type": "code",
   "execution_count": 29,
   "id": "6066a3ca-2b10-43a9-8a28-c0dc7d779e99",
   "metadata": {},
   "outputs": [
    {
     "name": "stdout",
     "output_type": "stream",
     "text": [
      "16\n"
     ]
    }
   ],
   "source": [
    "#8. Create a program to find the length of a string without using the `len()` function.\n",
    "s=\"i love hyderabad\"\n",
    "count=0\n",
    "for i in s:\n",
    "    count+=1\n",
    "print(count)\n"
   ]
  },
  {
   "cell_type": "code",
   "execution_count": 32,
   "id": "5f17366e-bbaa-4972-81de-84c687201565",
   "metadata": {},
   "outputs": [
    {
     "name": "stdout",
     "output_type": "stream",
     "text": [
      "7.5\n"
     ]
    }
   ],
   "source": [
    "#9. Write a program that calculates the average of a list of numbers using a `for` loop.\n",
    "lst=[1,2,3,4,5]\n",
    "count=0\n",
    "for i in lst:\n",
    "    count+=i\n",
    "    s=count/2\n",
    "print(s)"
   ]
  },
  {
   "cell_type": "code",
   "execution_count": 33,
   "id": "54622fdb-e457-45c2-aca7-06f2df005014",
   "metadata": {},
   "outputs": [
    {
     "name": "stdin",
     "output_type": "stream",
     "text": [
      "Enter the number of Fibonacci numbers to print:  6\n"
     ]
    },
    {
     "name": "stdout",
     "output_type": "stream",
     "text": [
      "[0, 1, 1, 2, 3, 5]\n"
     ]
    }
   ],
   "source": [
    "#10. Develop a program that prints the first `n` Fibonacci numbers using a `for` loop.\n",
    "def print_fibonacci(n):\n",
    "    fib_sequence = [0, 1]\n",
    "    for i in range(2, n):\n",
    "        fib_sequence.append(fib_sequence[i - 1] + fib_sequence[i - 2])\n",
    "    print(fib_sequence[:n])\n",
    "n = int(input(\"Enter the number of Fibonacci numbers to print: \"))\n",
    "print_fibonacci(n)"
   ]
  },
  {
   "cell_type": "code",
   "execution_count": 43,
   "id": "bc576bc4-fb14-472e-acfb-6c8e62777193",
   "metadata": {},
   "outputs": [
    {
     "data": {
      "text/plain": [
       "True"
      ]
     },
     "execution_count": 43,
     "metadata": {},
     "output_type": "execute_result"
    }
   ],
   "source": [
    "#11. Write a program to check if a given list contains any duplicates using a `for` loop.\n",
    "def any_duplicates(lst):\n",
    "    lst1=set()\n",
    "    for i in lst:\n",
    "        if i in lst1:\n",
    "            return True\n",
    "        lst1.add(i)\n",
    "    return False\n",
    "lst=[1,2,3,4,4]\n",
    "any_duplicates(lst)\n"
   ]
  },
  {
   "cell_type": "code",
   "execution_count": 44,
   "id": "449440b9-8a6c-4c7a-b19f-dc6749276bef",
   "metadata": {},
   "outputs": [
    {
     "name": "stdout",
     "output_type": "stream",
     "text": [
      "11\n",
      "13\n",
      "17\n",
      "19\n",
      "23\n",
      "29\n",
      "31\n",
      "37\n",
      "41\n",
      "43\n",
      "47\n"
     ]
    }
   ],
   "source": [
    "#12. Create a program that prints the prime numbers in a given range using a `for` loop.\n",
    "def print_primes(start, end):\n",
    "    for num in range(start, end + 1):\n",
    "        if num > 1:\n",
    "            is_prime = True\n",
    "            for i in range(2, int(num ** 0.5) + 1):\n",
    "                if num % i == 0:\n",
    "                    is_prime = False\n",
    "                    break\n",
    "            if is_prime:\n",
    "                print(num)\n",
    "print_primes(10, 50)"
   ]
  }
 ],
 "metadata": {
  "kernelspec": {
   "display_name": "Python 3 (ipykernel)",
   "language": "python",
   "name": "python3"
  },
  "language_info": {
   "codemirror_mode": {
    "name": "ipython",
    "version": 3
   },
   "file_extension": ".py",
   "mimetype": "text/x-python",
   "name": "python",
   "nbconvert_exporter": "python",
   "pygments_lexer": "ipython3",
   "version": "3.10.8"
  }
 },
 "nbformat": 4,
 "nbformat_minor": 5
}
{
 "cells": [
  {
   "cell_type": "code",
   "execution_count": 1,
   "id": "9a2f07ad-5262-4bd3-8b7c-24076890cdc0",
   "metadata": {},
   "outputs": [
    {
     "name": "stdout",
     "output_type": "stream",
     "text": [
      "Number of vowels in the string: 3\n"
     ]
    }
   ],
   "source": [
    "#13. Develop a program that counts the number of vowels in a string using a `for` loop.\n",
    "def count_vowels(s):\n",
    "    vowels = \"aeiouAEIOU\"\n",
    "    count = 0\n",
    "    for char in s:\n",
    "        if char in vowels:\n",
    "            count += 1\n",
    "    return count\n",
    "string = \"Hello world\"\n",
    "print(\"Number of vowels in the string:\", count_vowels(string))\n"
   ]
  },
  {
   "cell_type": "code",
   "execution_count": 2,
   "id": "ff35ea82-97f2-41b9-bf10-2d2bac79f761",
   "metadata": {},
   "outputs": [
    {
     "name": "stdout",
     "output_type": "stream",
     "text": [
      "Maximum element in the 2D list: 9\n"
     ]
    }
   ],
   "source": [
    "#14. Write a program to find the maximum element in a 2D list using a nested `for`loop\n",
    "def find_max_2d(lst):\n",
    "    max_val = float('-inf')\n",
    "    for row in lst:\n",
    "        for num in row:\n",
    "            if num > max_val:\n",
    "                max_val = num\n",
    "    return max_val\n",
    "matrix = [[1, 2, 3], [4, 5, 6], [7, 8, 9]]\n",
    "print(\"Maximum element in the 2D list:\", find_max_2d(matrix))\n"
   ]
  },
  {
   "cell_type": "code",
   "execution_count": 3,
   "id": "d7a5c8e5-f9a7-45ce-8b7f-bd71abe5ac32",
   "metadata": {},
   "outputs": [
    {
     "name": "stdout",
     "output_type": "stream",
     "text": [
      "List after removing all occurrences of 2: [1, 3, 4, 5, 3]\n"
     ]
    }
   ],
   "source": [
    "#15. Create a program that removes all occurrences of a specific element from a list using a `for` loop.\n",
    "def remove_element(lst, elem):\n",
    "    for i in range(len(lst) - 1, -1, -1):\n",
    "        if lst[i] == elem:\n",
    "            lst.pop(i)\n",
    "\n",
    "# Test the function\n",
    "my_list = [1, 2, 3, 4, 5, 2, 3, 2]\n",
    "remove_element(my_list, 2)\n",
    "print(\"List after removing all occurrences of 2:\", my_list)"
   ]
  },
  {
   "cell_type": "code",
   "execution_count": 4,
   "id": "ff4a3050-59d1-4fc1-b95e-0f8b0f7df3e3",
   "metadata": {},
   "outputs": [
    {
     "name": "stdout",
     "output_type": "stream",
     "text": [
      "1 x 1 = 1\n",
      "1 x 2 = 2\n",
      "1 x 3 = 3\n",
      "1 x 4 = 4\n",
      "1 x 5 = 5\n",
      "\n",
      "2 x 1 = 2\n",
      "2 x 2 = 4\n",
      "2 x 3 = 6\n",
      "2 x 4 = 8\n",
      "2 x 5 = 10\n",
      "\n",
      "3 x 1 = 3\n",
      "3 x 2 = 6\n",
      "3 x 3 = 9\n",
      "3 x 4 = 12\n",
      "3 x 5 = 15\n",
      "\n",
      "4 x 1 = 4\n",
      "4 x 2 = 8\n",
      "4 x 3 = 12\n",
      "4 x 4 = 16\n",
      "4 x 5 = 20\n",
      "\n",
      "5 x 1 = 5\n",
      "5 x 2 = 10\n",
      "5 x 3 = 15\n",
      "5 x 4 = 20\n",
      "5 x 5 = 25\n",
      "\n"
     ]
    }
   ],
   "source": [
    "#16. Develop a program that generates a multiplication table for numbers from 1 to 5 using a nested `for` loop.\n",
    "def generate_multiplication_table():\n",
    "    for i in range(1, 6):\n",
    "        for j in range(1, 6):\n",
    "            print(f\"{i} x {j} = {i * j}\")\n",
    "        print()\n",
    "generate_multiplication_table()\n"
   ]
  },
  {
   "cell_type": "code",
   "execution_count": 5,
   "id": "4d849e94-4acf-4f42-a275-d4cf2be84ff5",
   "metadata": {},
   "outputs": [
    {
     "name": "stdout",
     "output_type": "stream",
     "text": [
      "Fahrenheit temperatures: [32, 68, 212, -40]\n",
      "Celsius temperatures: [0.0, 20.0, 100.0, -40.0]\n"
     ]
    }
   ],
   "source": [
    "#17. Write a program that converts a list of Fahrenheit temperatures to Celsius using a `for` loop.\n",
    "def convert_fahrenheit_to_celsius(fahrenheit_list):\n",
    "    celsius_list = []\n",
    "    for fahrenheit in fahrenheit_list:\n",
    "        celsius = (fahrenheit - 32) * 5.0 / 9.0\n",
    "        celsius_list.append(celsius)\n",
    "    return celsius_list\n",
    "fahrenheit_list = [32, 68, 212, -40]\n",
    "celsius_list = convert_fahrenheit_to_celsius(fahrenheit_list)\n",
    "print(\"Fahrenheit temperatures:\", fahrenheit_list)\n",
    "print(\"Celsius temperatures:\", celsius_list)\n"
   ]
  },
  {
   "cell_type": "code",
   "execution_count": 7,
   "id": "19ebd474-bb3f-459c-81a2-e4190c2c5fce",
   "metadata": {},
   "outputs": [
    {
     "name": "stdout",
     "output_type": "stream",
     "text": [
      "[3, 5]\n"
     ]
    }
   ],
   "source": [
    "#18. Create a program to print the common elements from two lists using a `for` loop.\n",
    "lst1=[1,2,3,4,5]\n",
    "lst2=[3,5,7,9]\n",
    "lst3=[]\n",
    "for i in lst1:\n",
    "    if i in lst2:\n",
    "        lst3.append(i)\n",
    "print(lst3)\n",
    "        "
   ]
  },
  {
   "cell_type": "code",
   "execution_count": 13,
   "id": "352258ba-b128-48cc-97a4-85b34ebed645",
   "metadata": {},
   "outputs": [
    {
     "name": "stdout",
     "output_type": "stream",
     "text": [
      "    *\n",
      "   ***\n",
      "  *****\n",
      " *******\n",
      "*********\n"
     ]
    }
   ],
   "source": [
    "'''19. Develop a program that prints the pattern of right-angled triangles using a `for` loop. Use ‘*’ to draw the\n",
    "pattern'''\n",
    "def print_right_angled_triangle(n):\n",
    "    for i in range(n):\n",
    "        print(' ' * (n - i - 1) + '*' * (2 * i + 1))\n",
    "print_right_angled_triangle(5)"
   ]
  },
  {
   "cell_type": "code",
   "execution_count": 14,
   "id": "63cf4bea-4a60-419f-bcba-a25de1b63570",
   "metadata": {},
   "outputs": [
    {
     "name": "stdout",
     "output_type": "stream",
     "text": [
      "The GCD of 56 and 98 is: 14\n"
     ]
    }
   ],
   "source": [
    "#20. Write a program to find the greatest common divisor (GCD) of two numbers using a `for` loop.\n",
    "def gcd(a, b):\n",
    "    while b:\n",
    "        a, b = b, a % b\n",
    "    return abs(a)\n",
    "num1 = 56\n",
    "num2 = 98\n",
    "print(\"The GCD of\", num1, \"and\", num2, \"is:\", gcd(num1, num2))"
   ]
  },
  {
   "cell_type": "code",
   "execution_count": 16,
   "id": "c04bff8b-1456-48b1-9278-e951169631a9",
   "metadata": {},
   "outputs": [
    {
     "name": "stdout",
     "output_type": "stream",
     "text": [
      "The sum of the digits of numbers in the list is: 10\n"
     ]
    }
   ],
   "source": [
    "#21. Create a program that calculates the sum of the digits of numbers in a list using a list comprehension.\n",
    "def sum_of_digits(number):\n",
    "    return sum(int(digit) for digit in str(abs(number)))\n",
    "\n",
    "numbers_list = [1,2,3,4]\n",
    "sum_of_digits_in_list = sum(sum_of_digits(number) for number in numbers_list)\n",
    "print(\"The sum of the digits of numbers in the list is:\", sum_of_digits_in_list)"
   ]
  },
  {
   "cell_type": "code",
   "execution_count": 21,
   "id": "7764a3c0-c4b1-4fe7-bd37-bd398c2bec49",
   "metadata": {},
   "outputs": [
    {
     "name": "stdout",
     "output_type": "stream",
     "text": [
      "The prime factors of 210 are: [2, 3, 5, 7]\n"
     ]
    }
   ],
   "source": [
    "#22. Write a program to find the prime factors of a given number using a `for` loop and list comprehension.\n",
    "def is_prime(number):\n",
    "    if number < 2:\n",
    "        return False\n",
    "    for i in range(2, int(number**0.5) + 1):\n",
    "        if number % i == 0:\n",
    "            return False\n",
    "    return True\n",
    "\n",
    "def prime_factors(number):\n",
    "    factors = []\n",
    "    for i in range(2, number + 1):\n",
    "        if number % i == 0 and is_prime(i):\n",
    "            factors.append(i)\n",
    "    return factors\n",
    "\n",
    "number = 210\n",
    "prime_factors_list = [factor for factor in prime_factors(number)]\n",
    "print(\"The prime factors of\", number, \"are:\", prime_factors_list)"
   ]
  },
  {
   "cell_type": "code",
   "execution_count": null,
   "id": "c22f687e-4e16-4aa5-90a2-299642f054cf",
   "metadata": {},
   "outputs": [],
   "source": []
  }
 ],
 "metadata": {
  "kernelspec": {
   "display_name": "Python 3 (ipykernel)",
   "language": "python",
   "name": "python3"
  },
  "language_info": {
   "codemirror_mode": {
    "name": "ipython",
    "version": 3
   },
   "file_extension": ".py",
   "mimetype": "text/x-python",
   "name": "python",
   "nbconvert_exporter": "python",
   "pygments_lexer": "ipython3",
   "version": "3.10.8"
  }
 },
 "nbformat": 4,
 "nbformat_minor": 5
}
{
 "cells": [
  {
   "cell_type": "code",
   "execution_count": 1,
   "id": "77605b47-34a3-488f-b208-ac716f29cdca",
   "metadata": {},
   "outputs": [
    {
     "name": "stdout",
     "output_type": "stream",
     "text": [
      "Input List: [1, 2, 2, 3, 4, 4, 5, 6, 6, 7, 8, 8, 9]\n",
      "Unique Elements: [1, 2, 3, 4, 5, 6, 7, 8, 9]\n"
     ]
    }
   ],
   "source": [
    "'''23. Develop a program that extracts unique elements from a list and stores them in a new list using a list\n",
    "comprehension.'''\n",
    "def extract_unique_elements(input_list):\n",
    "    return [element for index, element in enumerate(input_list) if input_list.index(element) == index]\n",
    "input_list = [1, 2, 2, 3, 4, 4, 5, 6, 6, 7, 8, 8, 9]\n",
    "unique_elements = extract_unique_elements(input_list)\n",
    "print(\"Input List:\", input_list)\n",
    "print(\"Unique Elements:\", unique_elements)"
   ]
  },
  {
   "cell_type": "code",
   "execution_count": 4,
   "id": "f2a7964f-66bb-4127-a394-fc4e0aa66cb4",
   "metadata": {},
   "outputs": [
    {
     "name": "stdin",
     "output_type": "stream",
     "text": [
      "enter a number: 100\n"
     ]
    },
    {
     "name": "stdout",
     "output_type": "stream",
     "text": [
      "[1, 2, 3, 4, 5, 6, 7, 8, 9, 11, 22, 33, 44, 55, 66, 77, 88, 99]\n"
     ]
    }
   ],
   "source": [
    "'''24. Create a program that generates a list of all palindromic numbers up to a specified limit using a list\n",
    "comprehension.'''\n",
    "def palindromic_num(limit):\n",
    "    return [int(str(i)[::-1]) for i in range(1,limit) if str(i)==str(i)[::-1]]\n",
    "limit=int(input(\"enter a number:\"))\n",
    "res=palindromic_num(limit)\n",
    "print(res)"
   ]
  },
  {
   "cell_type": "code",
   "execution_count": 12,
   "id": "73817a73-cf41-4a27-b84f-0417a37725bc",
   "metadata": {},
   "outputs": [
    {
     "name": "stdout",
     "output_type": "stream",
     "text": [
      "Original Nested List: [1, 2, [3, 4, [5, 6], 7], 8, [9, [10, 11]]]\n",
      "Flattened List: [1, 2, 3, 4, 5, 6, 7, 8, 9, 10, 11]\n"
     ]
    }
   ],
   "source": [
    "#25. Write a program to flatten a nested list using list comprehension.\n",
    "def flatten_list(nested_list):\n",
    "    return [item for sublist in nested_list for item in (flatten_list(sublist) if isinstance(sublist, list) else [sublist])]\n",
    "nested_list = [1, 2, [3, 4, [5, 6], 7], 8, [9, [10, 11]]]\n",
    "flattened_list = flatten_list(nested_list)\n",
    "print(\"Original Nested List:\", nested_list)\n",
    "print(\"Flattened List:\", flattened_list)"
   ]
  },
  {
   "cell_type": "code",
   "execution_count": 16,
   "id": "bb3d6cca-1bde-4f71-a114-39862f580522",
   "metadata": {},
   "outputs": [
    {
     "name": "stdout",
     "output_type": "stream",
     "text": [
      "Sum of even numbers: 20\n",
      "Sum of odd numbers: 25\n"
     ]
    }
   ],
   "source": [
    "'''26. Develop a program that computes the sum of even and odd numbers in a list separately using list\n",
    "comprehension.'''\n",
    "def sum_even_odd(numbers):\n",
    "    even_sum = sum(num for num in numbers if num % 2 == 0)\n",
    "    odd_sum = sum(num for num in numbers if num % 2 != 0)\n",
    "    return even_sum, odd_sum\n",
    "numbers = [1, 2, 3, 4, 5, 6, 7, 8, 9]\n",
    "even_sum, odd_sum = sum_even_odd(numbers)\n",
    "print(\"Sum of even numbers:\", even_sum)\n",
    "print(\"Sum of odd numbers:\", odd_sum)"
   ]
  },
  {
   "cell_type": "code",
   "execution_count": 17,
   "id": "25537397-3023-4f78-a5c0-9dc605387605",
   "metadata": {},
   "outputs": [
    {
     "name": "stdout",
     "output_type": "stream",
     "text": [
      "[1, 9, 25, 49, 81]\n"
     ]
    }
   ],
   "source": [
    "'''27. Create a program that generates a list of squares of odd numbers between 1 and 10 using list\n",
    "comprehension.'''\n",
    "res=[i*i for i in range(1,11) if i%2!=0]\n",
    "print(res)\n"
   ]
  },
  {
   "cell_type": "code",
   "execution_count": 18,
   "id": "73953769-762d-4b40-9562-6ebca545bea8",
   "metadata": {},
   "outputs": [
    {
     "name": "stdout",
     "output_type": "stream",
     "text": [
      "{'a': 1, 'b': 2, 'c': 3}\n"
     ]
    }
   ],
   "source": [
    "#28. Write a program that combines two lists into a dictionary using list comprehension.\n",
    "def combine_lists(keys, values):\n",
    "    combined_dict = {key: value for key, value in zip(keys, values)}\n",
    "    return combined_dict\n",
    "keys = ['a', 'b', 'c']\n",
    "values = [1, 2, 3]\n",
    "combined_dict = combine_lists(keys, values)\n",
    "print(combined_dict)"
   ]
  },
  {
   "cell_type": "code",
   "execution_count": 25,
   "id": "dc5d4a2b-c972-453d-b9f3-ddf6222c6591",
   "metadata": {},
   "outputs": [
    {
     "name": "stdout",
     "output_type": "stream",
     "text": [
      "['e', 'o', 'o']\n"
     ]
    }
   ],
   "source": [
    "#29. Develop a program that extracts the vowels from a string and stores them in a list using list comprehension.\n",
    "string=\"hello world\"\n",
    "vowels=\"aeiouAEIOU\"\n",
    "res=[item for item in string if item in vowels]\n",
    "print(res)"
   ]
  },
  {
   "cell_type": "code",
   "execution_count": 27,
   "id": "1c47cd97-de19-4dde-b03e-9e41b5baa641",
   "metadata": {},
   "outputs": [
    {
     "name": "stdout",
     "output_type": "stream",
     "text": [
      "['18', '8', '29', '4']\n"
     ]
    }
   ],
   "source": [
    "#30. Create a program that removes all non-numeric characters from a list of strings using list comprehension.\n",
    "my_string = \"s18 R8 a29b c4d\"\n",
    "numeric_chars = [''.join(c for c in s if c.isdigit()) for s in my_string.split()]\n",
    "print(numeric_chars)"
   ]
  },
  {
   "cell_type": "code",
   "execution_count": 32,
   "id": "9dfd5eea-e082-4b73-b3f9-9c7b631b5aa9",
   "metadata": {},
   "outputs": [
    {
     "name": "stdout",
     "output_type": "stream",
     "text": [
      "[2, 3, 5, 7]\n"
     ]
    }
   ],
   "source": [
    "#31. Write a program to generate a list of prime numbers using the Sieve of Eratosthenes algorithm and list comprehension.\n",
    "def sieve_of_eratosthenes(n):\n",
    "    is_prime = [True] * (n + 1)\n",
    "    is_prime[0] = False\n",
    "    is_prime[1] = False\n",
    "    for i in range(2, int(n**0.5) + 1):\n",
    "        if is_prime[i]:\n",
    "            for j in range(i * i, n + 1, i):\n",
    "                is_prime[j] = False\n",
    "    return [i for i, is_prime_val in enumerate(is_prime) if is_prime_val]\n",
    "\n",
    "primes = sieve_of_eratosthenes(10)\n",
    "print(primes)"
   ]
  }
 ],
 "metadata": {
  "kernelspec": {
   "display_name": "Python 3 (ipykernel)",
   "language": "python",
   "name": "python3"
  },
  "language_info": {
   "codemirror_mode": {
    "name": "ipython",
    "version": 3
   },
   "file_extension": ".py",
   "mimetype": "text/x-python",
   "name": "python",
   "nbconvert_exporter": "python",
   "pygments_lexer": "ipython3",
   "version": "3.10.8"
  }
 },
 "nbformat": 4,
 "nbformat_minor": 5
}
{
 "cells": [
  {
   "cell_type": "code",
   "execution_count": 1,
   "id": "6dec292e-9475-46c0-b7b3-8c6abe473316",
   "metadata": {},
   "outputs": [
    {
     "name": "stdin",
     "output_type": "stream",
     "text": [
      "enter a number: 10\n"
     ]
    },
    {
     "name": "stdout",
     "output_type": "stream",
     "text": [
      "[(3, 4, 5), (4, 3, 5)]\n"
     ]
    }
   ],
   "source": [
    "#32. Create a program that generates a list of all Pythagorean triplets up to a specified limit using list comprehension.\n",
    "def pythagorean_triplets(n):\n",
    "    return [(a,b,c) for a in range(1,n) for b in range(1,n) for c in range(1,n) if a**2+b**2==c**2]\n",
    "n=int(input(\"enter a number:\"))\n",
    "res=pythagorean_triplets(n)\n",
    "print(res)"
   ]
  },
  {
   "cell_type": "code",
   "execution_count": 2,
   "id": "fb0d76b9-005a-4e20-8253-f3b4f87533f2",
   "metadata": {},
   "outputs": [
    {
     "name": "stdout",
     "output_type": "stream",
     "text": [
      "[(1, 3), (1, 6), (1, 7), (1, 8), (2, 3), (2, 6), (2, 7), (2, 8), (3, 3), (3, 6), (3, 7), (3, 8), (4, 3), (4, 6), (4, 7), (4, 8), (5, 3), (5, 6), (5, 7), (5, 8), (6, 3), (6, 6), (6, 7), (6, 8)]\n"
     ]
    }
   ],
   "source": [
    "#33. Develop a program that generates a list of all possible combinations of two lists using list comprehension.\n",
    "lst1=[1,2,3,4,5,6]\n",
    "lst2=[3,6,7,8]\n",
    "res=[(i,j) for i in lst1 for j in lst2]\n",
    "print(res)"
   ]
  },
  {
   "cell_type": "code",
   "execution_count": 3,
   "id": "80c0537d-b07b-4286-994a-231ab375ce23",
   "metadata": {},
   "outputs": [
    {
     "name": "stdout",
     "output_type": "stream",
     "text": [
      "Mean: 12.125\n",
      "Median: 12.0\n",
      "Mode: [15]\n"
     ]
    }
   ],
   "source": [
    "#34. Write a program that calculates the mean, median, and mode of a list of numbers using list comprehension.\n",
    "def calculate_statistics(numbers):\n",
    "    mean = sum(numbers) / len(numbers)\n",
    "    numbers_sorted = sorted(numbers)\n",
    "    n = len(numbers_sorted)\n",
    "    median = numbers_sorted[n // 2] if n % 2 else (numbers_sorted[n // 2 - 1] + numbers_sorted[n // 2]) / 2\n",
    "    frequency = {x: numbers.count(x) for x in numbers}\n",
    "    mode = [k for k, v in frequency.items() if v == max(frequency.values())]\n",
    "    return mean, median, mode\n",
    "\n",
    "numbers = [12, 15, 10, 8, 12, 15, 10,15]\n",
    "mean, median, mode = calculate_statistics(numbers)\n",
    "print(\"Mean:\", mean)\n",
    "print(\"Median:\", median)\n",
    "print(\"Mode:\", mode)"
   ]
  },
  {
   "cell_type": "code",
   "execution_count": 4,
   "id": "e68ef2e5-145c-4baf-863c-3e9f94c5858a",
   "metadata": {},
   "outputs": [
    {
     "name": "stdout",
     "output_type": "stream",
     "text": [
      "1\n",
      "1 1\n",
      "1 2 1\n",
      "1 3 3 1\n",
      "1 4 6 4 1\n"
     ]
    }
   ],
   "source": [
    "#35. Create a program that generates Pascal's triangle up to a specified number of rows using list comprehension.\n",
    "def generate_pascals_triangle(n):\n",
    "    triangle = [[1 for _ in range(i+1)] for i in range(n)]\n",
    "    for i in range(2, n):\n",
    "        for j in range(1, i):\n",
    "            triangle[i][j] = triangle[i-1][j-1] + triangle[i-1][j]\n",
    "    return triangle\n",
    "\n",
    "n = 5\n",
    "pascals_triangle = generate_pascals_triangle(n)\n",
    "\n",
    "for row in pascals_triangle:\n",
    "    print(' '.join(str(x) for x in row))"
   ]
  },
  {
   "cell_type": "code",
   "execution_count": 5,
   "id": "7b171a9f-6ee1-4f84-b97e-94883d3fbba7",
   "metadata": {},
   "outputs": [
    {
     "name": "stdout",
     "output_type": "stream",
     "text": [
      "[1, 2, 6, 6, 3]\n"
     ]
    }
   ],
   "source": [
    "#36. Develop a program that calculates the sum of the digits of a factorial of numbers from 1 to 5 using list comprehension.\n",
    "from math import factorial\n",
    "factorials = [factorial(x) for x in range(1, 6)]\n",
    "def sum_of_digits(num):\n",
    "    return sum(int(digit) for digit in str(num))\n",
    "sum_of_digits_list = [sum_of_digits(num) for num in factorials]\n",
    "print(sum_of_digits_list)"
   ]
  },
  {
   "cell_type": "code",
   "execution_count": 7,
   "id": "78517462-252d-4b1c-9254-faf1d5b4c2a0",
   "metadata": {},
   "outputs": [
    {
     "name": "stdout",
     "output_type": "stream",
     "text": [
      "The longest word in the sentence is: hyderabad\n"
     ]
    }
   ],
   "source": [
    "#37. Write a program that finds the longest word in a sentence using list comprehension.\n",
    "def find_longest_word(sentence):\n",
    "    words = sentence.split()\n",
    "    longest_word = max(words, key=len)\n",
    "    return longest_word\n",
    "sentence = \"hello hyderabad\"\n",
    "result = find_longest_word(sentence)\n",
    "print(\"The longest word in the sentence is:\", result)"
   ]
  },
  {
   "cell_type": "code",
   "execution_count": 22,
   "id": "94251808-af67-4240-87e9-fb748597d637",
   "metadata": {},
   "outputs": [
    {
     "name": "stdout",
     "output_type": "stream",
     "text": [
      "['aeroplane', 'austria']\n"
     ]
    }
   ],
   "source": [
    "#38. Create a program that filters a list of strings to include only those with more than three vowels using list comprehension.\n",
    "vowels = 'aeiou'\n",
    "words = [\"apple\", \"beer\", \"house\",\"aeroplane\", \"austria\"]\n",
    "filtered_words = [word for word in words if sum(c in vowels for c in word.lower()) > 3]\n",
    "print(filtered_words)\n"
   ]
  },
  {
   "cell_type": "code",
   "execution_count": 26,
   "id": "93fe312a-79e9-4702-94d1-040d4137b9b4",
   "metadata": {},
   "outputs": [
    {
     "name": "stdout",
     "output_type": "stream",
     "text": [
      "500500\n"
     ]
    }
   ],
   "source": [
    "#39. Develop a program that calculates the sum of the digits of numbers from 1 to 1000 using list comprehension.\n",
    "res=sum(i for i in range(1,1001))\n",
    "print(res)"
   ]
  },
  {
   "cell_type": "code",
   "execution_count": 28,
   "id": "69a3dc95-a68a-4ef6-80d2-a9d6b9510ec9",
   "metadata": {},
   "outputs": [
    {
     "name": "stdout",
     "output_type": "stream",
     "text": [
      "Prime palindromic numbers less than 100 : [2, 3, 5, 7, 11]\n"
     ]
    }
   ],
   "source": [
    "#40. Write a program that generates a list of prime palindromic numbers using list comprehension.\n",
    "def generate_prime_palindromes(n):\n",
    "    return [x for x in range(2, n) if str(x) == str(x)[::-1] and all(x%i!=0 for i in range(2, int(x**0.5) + 1))]\n",
    "n = 100\n",
    "result = generate_prime_palindromes(n)\n",
    "print(\"Prime palindromic numbers less than\", n, \":\", result)"
   ]
  }
 ],
 "metadata": {
  "kernelspec": {
   "display_name": "Python 3 (ipykernel)",
   "language": "python",
   "name": "python3"
  },
  "language_info": {
   "codemirror_mode": {
    "name": "ipython",
    "version": 3
   },
   "file_extension": ".py",
   "mimetype": "text/x-python",
   "name": "python",
   "nbconvert_exporter": "python",
   "pygments_lexer": "ipython3",
   "version": "3.10.8"
  }
 },
 "nbformat": 4,
 "nbformat_minor": 5
}
